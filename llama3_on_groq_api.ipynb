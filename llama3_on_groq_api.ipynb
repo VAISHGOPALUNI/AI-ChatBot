{
  "nbformat": 4,
  "nbformat_minor": 0,
  "metadata": {
    "colab": {
      "provenance": [],
      "include_colab_link": true
    },
    "kernelspec": {
      "name": "python3",
      "display_name": "Python 3"
    },
    "language_info": {
      "name": "python"
    }
  },
  "cells": [
    {
      "cell_type": "markdown",
      "metadata": {
        "id": "view-in-github",
        "colab_type": "text"
      },
      "source": [
        "<a href=\"https://colab.research.google.com/github/VAISHGOPALUNI/AI-ChatBot/blob/main/llama3_on_groq_api.ipynb\" target=\"_parent\"><img src=\"https://colab.research.google.com/assets/colab-badge.svg\" alt=\"Open In Colab\"/></a>"
      ]
    },
    {
      "cell_type": "code",
      "execution_count": null,
      "metadata": {
        "id": "wLD7x-onvo5n",
        "colab": {
          "base_uri": "https://localhost:8080/"
        },
        "outputId": "8fe639fd-7973-4055-d43e-d7505aeaf9ce"
      },
      "outputs": [
        {
          "output_type": "stream",
          "name": "stdout",
          "text": [
            "\u001b[?25l     \u001b[90m━━━━━━━━━━━━━━━━━━━━━━━━━━━━━━━━━━━━━━━━\u001b[0m \u001b[32m0.0/105.4 kB\u001b[0m \u001b[31m?\u001b[0m eta \u001b[36m-:--:--\u001b[0m\r\u001b[2K     \u001b[90m━━━━━━━━━━━━━━━━━━━━━━━━━━━━━━━━━━━━━━━━\u001b[0m \u001b[32m105.4/105.4 kB\u001b[0m \u001b[31m3.9 MB/s\u001b[0m eta \u001b[36m0:00:00\u001b[0m\n",
            "\u001b[2K     \u001b[90m━━━━━━━━━━━━━━━━━━━━━━━━━━━━━━━━━━━━━━━━\u001b[0m \u001b[32m75.6/75.6 kB\u001b[0m \u001b[31m8.8 MB/s\u001b[0m eta \u001b[36m0:00:00\u001b[0m\n",
            "\u001b[2K     \u001b[90m━━━━━━━━━━━━━━━━━━━━━━━━━━━━━━━━━━━━━━━━\u001b[0m \u001b[32m77.9/77.9 kB\u001b[0m \u001b[31m8.8 MB/s\u001b[0m eta \u001b[36m0:00:00\u001b[0m\n",
            "\u001b[2K     \u001b[90m━━━━━━━━━━━━━━━━━━━━━━━━━━━━━━━━━━━━━━━━\u001b[0m \u001b[32m58.3/58.3 kB\u001b[0m \u001b[31m7.0 MB/s\u001b[0m eta \u001b[36m0:00:00\u001b[0m\n",
            "\u001b[?25h"
          ]
        }
      ],
      "source": [
        "!pip install -q groq"
      ]
    },
    {
      "cell_type": "code",
      "source": [
        "from google.colab import userdata\n"
      ],
      "metadata": {
        "id": "RnrUYWxGv6Jk"
      },
      "execution_count": null,
      "outputs": []
    },
    {
      "cell_type": "markdown",
      "source": [
        "### Basic Example of Getting Started"
      ],
      "metadata": {
        "id": "u4Fxz-HzwyUf"
      }
    },
    {
      "cell_type": "code",
      "source": [
        "import os\n",
        "\n",
        "from groq import Groq\n",
        "\n",
        "client = Groq(\n",
        "    api_key=userdata.get('GROQ_API_KEY'),\n",
        ")"
      ],
      "metadata": {
        "id": "U9MbDkOKwLaA"
      },
      "execution_count": null,
      "outputs": []
    },
    {
      "cell_type": "code",
      "source": [],
      "metadata": {
        "id": "I5bm_8mcRdeC"
      },
      "execution_count": null,
      "outputs": []
    },
    {
      "cell_type": "markdown",
      "source": [
        "### Streaming"
      ],
      "metadata": {
        "id": "NwG7wvpHyJcT"
      }
    },
    {
      "cell_type": "code",
      "source": [
        "from groq import Groq\n",
        "\n",
        "# client = Groq()\n",
        "def get_answer(question):\n",
        "\n",
        "    chat_completion  = client.chat.completions.create(\n",
        "    #\n",
        "    # Required parameters\n",
        "    #\n",
        "    messages=[\n",
        "        # Set an optional system message. This sets the behavior of the\n",
        "        # assistant and can be used to provide specific instructions for\n",
        "        # how it should behave throughout the conversation.\n",
        "        {\n",
        "            \"role\": \"system\",\n",
        "            \"content\": \"You are an AI tutor named sophia who is specialized in explaining machine learning concepts. Be detailed and include best GenAI models to learn.\"\n",
        "                        f\"Here is a question from a student: {question} \"\n",
        "                       \"Please keep the answers short and crisp & also provide them in chinese language for the client who resides in china\"\n",
        "        },\n",
        "        # Set a user message for the assistant to respond to.\n",
        "\n",
        "    ],\n",
        "\n",
        "    # The language model which will generate the completion.\n",
        "    model=\"llama3-70b-8192\",\n",
        "\n",
        "    #\n",
        "    # Optional parameters\n",
        "    #\n",
        "\n",
        "    # Controls randomness: lowering results in less random completions.\n",
        "    # As the temperature approaches zero, the model will become deterministic\n",
        "    # and repetitive.\n",
        "    temperature=1,\n",
        "\n",
        "    # The maximum number of tokens to generate. Requests can use up to\n",
        "    # 2048 tokens shared between prompt and completion.\n",
        "    max_tokens=1024,\n",
        "\n",
        "    # Controls diversity via nucleus sampling: 0.5 means half of all\n",
        "    # likelihood-weighted options are considered.\n",
        "    top_p=1,\n",
        "\n",
        "    # A stop sequence is a predefined or user-specified text string that\n",
        "    # signals an AI to stop generating content, ensuring its responses\n",
        "    # remain focused and concise. Examples include punctuation marks and\n",
        "    # markers like \"[end]\".\n",
        "    stop=None,\n",
        "\n",
        "    # If set, partial message deltas will be sent.\n",
        "    stream=False,\n",
        ")\n",
        "\n",
        "\n",
        "# Print the incremental deltas returned by the LLM.\n",
        "    return chat_completion .choices[0].message.content + '\\n'\n",
        "def main():\n",
        "    while True:\n",
        "        print(\"Hi there! Welcome to your Vaishu AI | Type 'exit' to end the session. \\n\")\n",
        "        question = input(\"Enter your Query: \\n\")\n",
        "        if question.lower() == 'exit':\n",
        "            print(\"Have a good one Vaishu! \\n\")\n",
        "            break\n",
        "        answer = get_answer(question)\n",
        "        print(f\"Vaishu Bot: \\n {answer}\")\n",
        "\n",
        "if __name__ == '__main__':\n",
        "    main()\n"
      ],
      "metadata": {
        "colab": {
          "base_uri": "https://localhost:8080/"
        },
        "id": "B1MyR05bxNm6",
        "outputId": "e36599e0-4619-473e-f7bd-c3bdd0f18ea8"
      },
      "execution_count": null,
      "outputs": [
        {
          "output_type": "stream",
          "name": "stdout",
          "text": [
            "Hi there! Welcome to your Vaishu AI | Type 'exit' to end the session. \n",
            "\n",
            "Enter your Query: \n",
            "give ML lessons?\n",
            "Vaishu Bot: \n",
            " I'd be happy to provide machine learning lessons in both English and Chinese.\n",
            "\n",
            "Here's a brief introduction to get us started:\n",
            "\n",
            "**Lesson 1: Introduction to Machine Learning**\n",
            "\n",
            "Machine learning is a subset of artificial intelligence (AI) that involves training models to make predictions or decisions based on data.\n",
            "\n",
            "**English:**\n",
            "Machine learning is a type of AI that enables systems to learn from data and improve their performance over time. It's a fundamental concept in AI that has numerous applications in areas like image and speech recognition, natural language processing, and predictive analytics.\n",
            "\n",
            "**Chinese:**\n",
            "-machine learningAI-dataAI speech recognitionNLP\n",
            "\n",
            "Now, let's dive into some key concepts in machine learning:\n",
            "\n",
            "**Supervised Learning:**\n",
            "In supervised learning, we train models using labeled data, where the target output is already known. The model learns to map inputs to outputs based on the labeled data.\n",
            "\n",
            "**English:** Supervised learning is a type of machine learning where the model is trained on labeled data to learn the mapping between inputs and outputs.\n",
            "\n",
            "**Chinese:** supervised learning\n",
            "\n",
            "Some popular supervised learning algorithms include:\n",
            "\n",
            "1. Linear Regression\n",
            "2. Logistic Regression\n",
            "3. Decision Trees\n",
            "4. Random Forest\n",
            "\n",
            "**Unsupervised Learning:**\n",
            "In unsupervised learning, we train models using unlabeled data, and the model discovers patterns or relationships in the data.\n",
            "\n",
            "**English:** Unsupervised learning is a type of machine learning where the model is trained on unlabeled data to discover hidden patterns or relationships.\n",
            "\n",
            "**Chinese:** unsupervised learningunsupervised learning\n",
            "\n",
            "Some popular unsupervised learning algorithms include:\n",
            "\n",
            "1. K-Means Clustering\n",
            "2. Hierarchical Clustering\n",
            "3. Principal Component Analysis (PCA)\n",
            "\n",
            "**Reinforcement Learning:**\n",
            "In reinforcement learning, we train models using feedback in the form of rewards or penalties to make decisions.\n",
            "\n",
            "**English:** Reinforcement learning is a type of machine learning where the model learns to make decisions based on feedback in the form of rewards or penalties.\n",
            "\n",
            "**Chinese:** reinforcement learning\n",
            "\n",
            "Some popular reinforcement learning algorithms include:\n",
            "\n",
            "1. Q-Learning\n",
            "2. Deep Q-Networks (DQN)\n",
            "3. Policy Gradient Methods\n",
            "\n",
            "Now, let's talk about some state-of-the-art models in machine learning:\n",
            "\n",
            "**Generative Models:**\n",
            "Generative models learn to generate new data that resembles existing data. Examples include:\n",
            "\n",
            "1. Generative Adversarial Networks (GANs)\n",
            "2. Variational Autoencoders (VAEs)\n",
            "\n",
            "**English:** Generative models learn to generate new data that resembles existing data, enabling applications like data augmentation and style transfer.\n",
            "\n",
            "**Chinese:**\n",
            "\n",
            "**Transformers:**\n",
            "Transformers are a type of neural network architecture introduced in the BERT model. They're widely used in natural language processing tasks like language translation and text classification.\n",
            "\n",
            "**English:** Transformers are a type of neural network architecture that's revolutionized natural language processing tasks like language translation and text classification.\n",
            "\n",
            "**Chinese:BERTtransformerNLP\n",
            "\n",
            "Some popular transformer models include:\n",
            "\n",
            "1. BERT (Bidirectional Encoder Representations from Transformers)\n",
            "2. RoBERTa (Robustly Optimized BERT Pretraining Approach)\n",
            "3. DistilBERT (Distilled BERT)\n",
            "\n",
            "These are just a few of the topics we can explore in machine learning. Let me know what you'd like to learn more about!\n",
            "\n",
            "Would you like to learn more about a specific topic or move on to the next lesson?\n",
            "\n",
            "Hi there! Welcome to your Vaishu AI | Type 'exit' to end the session. \n",
            "\n",
            "Enter your Query: \n",
            "Give GenAI lesson plan?\n",
            "Vaishu Bot: \n",
            " Hello! I'd be happy to provide a General AI (GenAI) lesson plan for you. Here's a suggested plan, and I'll also provide the key points in Chinese for your convenience.\n",
            "\n",
            "**GenAI Lesson Plan**\n",
            "\n",
            "**Week 1-2: Introduction to Machine Learning and Math Foundations**\n",
            "\n",
            "* Introduce machine learning concepts, types of ML, and applications\n",
            "* Review essential math concepts: linear algebra, calculus, and probability\n",
            "* Recommended resource: Khan Academy's Machine Learning course\n",
            "\n",
            "**Week 3-4: Supervised Learning**\n",
            "\n",
            "* Explore supervised learning: regression, classification, and model evaluation metrics\n",
            "* Study popular supervised learning algorithms: linear regression, logistic regression, decision trees, and random forests\n",
            "* Practice with datasets: Boston Housing, Iris, and Wine Quality\n",
            "\n",
            "**Week 5-6: Unsupervised Learning and Neural Networks**\n",
            "\n",
            "* Introduce unsupervised learning: clustering, dimensionality reduction, and density estimation\n",
            "* Study neural networks: perceptron, multilayer perceptron, and backpropagation\n",
            "* Explore popular neural network architectures: MLP, CNN, and RNN\n",
            "\n",
            "**Week 7-8: Deep Learning and Advanced Topics**\n",
            "\n",
            "* Dive deeper into deep learning: convolutional neural networks (CNNs), recurrent neural networks (RNNs), and long short-term memory (LSTM) networks\n",
            "* Explore advanced topics: transfer learning, batch normalization, and attention mechanisms\n",
            "* Practice with popular deep learning frameworks: TensorFlow, PyTorch, or Keras\n",
            "\n",
            "**Week 9-10: Natural Language Processing and Generative Models**\n",
            "\n",
            "* Introduce natural language processing (NLP) concepts: text preprocessing, tokenization, and language models\n",
            "* Study generative models: autoencoders, variational autoencoders, and generative adversarial networks (GANs)\n",
            "* Practice with popular NLP libraries: NLTK, spaCy, or Python's gensim\n",
            "\n",
            "**Week 11-12: Reinforcement Learning and Project Development**\n",
            "\n",
            "* Explore reinforcement learning: Markov decision processes, Q-learning, and deep reinforcement learning\n",
            "* Work on a project that integrates concepts learned throughout the course\n",
            "* Practice with popular RL libraries: Gym, Baselines, or RLLIB\n",
            "\n",
            "**Best GenAI Models to Learn**\n",
            "\n",
            "1. **BERT (Bidirectional Encoder Representations from Transformers)**: State-of-the-art language model for NLP tasks\n",
            "2. ** Transformers**: Attention-based architecture for sequence-to-sequence tasks\n",
            "3. **ResNet (Residual Network)**: Deep neural network architecture for image classification\n",
            "4. **LSTM (Long Short-Term Memory)**: Recurrent neural network architecture for sequence data\n",
            "5. **BERT-based models**: RoBERTa, DistilBERT, and ALBERT for various NLP tasks\n",
            "\n",
            "** Chinese Translation **\n",
            "\n",
            "\n",
            "1. \n",
            "2. \n",
            "3.\n",
            "4.\n",
            "5.\n",
            "\n",
            "\n",
            "\n",
            "I hope this GenAI lesson plan helps you get started on your machine learning journey!\n",
            "\n",
            "Hi there! Welcome to your Vaishu AI | Type 'exit' to end the session. \n",
            "\n",
            "Enter your Query: \n",
            "exit\n",
            "Have a good one Vaishu! \n",
            "\n"
          ]
        }
      ]
    },
    {
      "cell_type": "code",
      "source": [],
      "metadata": {
        "id": "wsLTvNDWSaBH"
      },
      "execution_count": null,
      "outputs": []
    },
    {
      "cell_type": "code",
      "source": [],
      "metadata": {
        "id": "Ik4VeE4PSaD7"
      },
      "execution_count": null,
      "outputs": []
    }
  ]
}